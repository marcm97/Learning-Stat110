{
 "cells": [
  {
   "cell_type": "code",
   "execution_count": 6,
   "metadata": {},
   "outputs": [],
   "source": [
    "##notes from datacamp course\n",
    "import numpy as np"
   ]
  },
  {
   "cell_type": "markdown",
   "metadata": {},
   "source": [
    "### np.random.choice()\n",
    "takes in an array and chooses at random\n",
    "parameters: \n",
    "    - array\n",
    "    - size of output\n",
    "    - prob associated with each element\n",
    "    - with or without replacement"
   ]
  },
  {
   "cell_type": "code",
   "execution_count": 7,
   "metadata": {},
   "outputs": [
    {
     "data": {
      "text/plain": [
       "array([5, 3])"
      ]
     },
     "execution_count": 7,
     "metadata": {},
     "output_type": "execute_result"
    }
   ],
   "source": [
    "dice = [1,2,3,4,5,6]\n",
    "np.random.choice(dice,2,replace=True)"
   ]
  },
  {
   "cell_type": "markdown",
   "metadata": {},
   "source": [
    "### np.random.poisson()\n",
    "draws from a poisson distribution\n",
    "\n",
    "    - lambda\n",
    "    - size"
   ]
  },
  {
   "cell_type": "code",
   "execution_count": 13,
   "metadata": {},
   "outputs": [
    {
     "data": {
      "text/plain": [
       "4.883"
      ]
     },
     "execution_count": 13,
     "metadata": {},
     "output_type": "execute_result"
    }
   ],
   "source": [
    "np.mean(np.random.poisson(5,1000))"
   ]
  },
  {
   "cell_type": "markdown",
   "metadata": {},
   "source": [
    "## Simulations\n",
    "\n",
    "- repeated sampling\n",
    "- approximate soln\n",
    "\n",
    "steps:\n",
    "- define what your random variable is\n",
    "- define the probability distribution of your random variable\n",
    "- define relationships for the random variables\n",
    "- use a for loop to create multiple simulations\n"
   ]
  },
  {
   "cell_type": "markdown",
   "metadata": {},
   "source": [
    "### Example: Coin Game\n",
    "\n",
    "Say you flip a coin twice. What is the probability of getting the same outcome?\n",
    "let X be an indicator random variable where $X_{i}$ =1 if both have the same outcome and 0 otherwise"
   ]
  },
  {
   "cell_type": "code",
   "execution_count": 17,
   "metadata": {},
   "outputs": [],
   "source": [
    "#single simulation\n",
    "soln =[]\n",
    "toss1,toss2 = np.random.choice([\"H\",\"T\"],size=2,replace=True)\n",
    "if toss1==toss2:\n",
    "    soln.append(1)\n",
    "else:\n",
    "    soln.append(0)"
   ]
  },
  {
   "cell_type": "code",
   "execution_count": null,
   "metadata": {},
   "outputs": [],
   "source": []
  }
 ],
 "metadata": {
  "kernelspec": {
   "display_name": "Python 3",
   "language": "python",
   "name": "python3"
  },
  "language_info": {
   "codemirror_mode": {
    "name": "ipython",
    "version": 3
   },
   "file_extension": ".py",
   "mimetype": "text/x-python",
   "name": "python",
   "nbconvert_exporter": "python",
   "pygments_lexer": "ipython3",
   "version": "3.7.6"
  }
 },
 "nbformat": 4,
 "nbformat_minor": 4
}
