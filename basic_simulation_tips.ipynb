{
 "cells": [
  {
   "cell_type": "markdown",
   "metadata": {},
   "source": [
    "## Methods to Set up Simulation Problems"
   ]
  },
  {
   "cell_type": "code",
   "execution_count": 63,
   "metadata": {},
   "outputs": [],
   "source": [
    "##notes from datacamp course\n",
    "import numpy as np\n",
    "\n",
    "from itertools import permutations"
   ]
  },
  {
   "cell_type": "markdown",
   "metadata": {},
   "source": [
    "### permutations\n",
    "generates all possible permutations"
   ]
  },
  {
   "cell_type": "code",
   "execution_count": 74,
   "metadata": {},
   "outputs": [
    {
     "data": {
      "text/plain": [
       "[[1, 2, 3], [1, 3, 2], [2, 1, 3], [2, 3, 1], [3, 1, 2], [3, 2, 1]]"
      ]
     },
     "execution_count": 74,
     "metadata": {},
     "output_type": "execute_result"
    }
   ],
   "source": [
    "[[i,j,k] for i,j,k in permutations([1,2,3])]"
   ]
  },
  {
   "cell_type": "markdown",
   "metadata": {},
   "source": [
    "### np.random.choice()\n",
    "takes in an array and chooses at random\n",
    "parameters: \n",
    "    - array\n",
    "    - size of output\n",
    "    - prob associated with each element\n",
    "    - with or without replacement"
   ]
  },
  {
   "cell_type": "code",
   "execution_count": 59,
   "metadata": {},
   "outputs": [
    {
     "data": {
      "text/plain": [
       "array([1, 3])"
      ]
     },
     "execution_count": 59,
     "metadata": {},
     "output_type": "execute_result"
    }
   ],
   "source": [
    "dice = [1,2,3,4,5,6]\n",
    "np.random.choice(dice,2,replace=True)"
   ]
  },
  {
   "cell_type": "markdown",
   "metadata": {},
   "source": [
    "### np.random.poisson()\n",
    "draws from a poisson distribution\n",
    "\n",
    "    - lambda\n",
    "    - size"
   ]
  },
  {
   "cell_type": "code",
   "execution_count": 60,
   "metadata": {},
   "outputs": [
    {
     "data": {
      "text/plain": [
       "4.889"
      ]
     },
     "execution_count": 60,
     "metadata": {},
     "output_type": "execute_result"
    }
   ],
   "source": [
    "np.mean(np.random.poisson(5,1000))"
   ]
  },
  {
   "cell_type": "markdown",
   "metadata": {},
   "source": [
    "## Simulations\n",
    "\n",
    "- repeated sampling\n",
    "- approximate soln\n",
    "\n",
    "steps:\n",
    "- construct sample space\n",
    "- assign probabilities for the sample space\n",
    "- define what your goal is \n",
    "- repeatedly sample\n"
   ]
  },
  {
   "cell_type": "markdown",
   "metadata": {},
   "source": [
    "### Example: Coin Game\n",
    "\n",
    "Say you flip a coin twice. What is the probability of getting the same outcome?\n",
    "let X be an indicator random variable where $X_{i}$ =1 if both have the same outcome and 0 otherwise"
   ]
  },
  {
   "cell_type": "code",
   "execution_count": 61,
   "metadata": {},
   "outputs": [],
   "source": [
    "\n",
    "soln =[]\n",
    "for i in range(1000):\n",
    "    toss1 = np.random.choice([\"H\",\"T\"],size=1)\n",
    "    toss2 = np.random.choice([\"H\",\"T\"],size=1)\n",
    "    if toss1==toss2:\n",
    "        soln.append(1)\n",
    "    else:\n",
    "        soln.append(0)\n",
    "    \n"
   ]
  },
  {
   "cell_type": "code",
   "execution_count": 62,
   "metadata": {},
   "outputs": [
    {
     "data": {
      "text/plain": [
       "0.515"
      ]
     },
     "execution_count": 62,
     "metadata": {},
     "output_type": "execute_result"
    }
   ],
   "source": [
    "np.mean(soln)"
   ]
  },
  {
   "cell_type": "markdown",
   "metadata": {},
   "source": [
    "### The matching problem\n",
    "given cards numbered from 1-13 whats the probability that 0 cards match up with their draw?"
   ]
  },
  {
   "cell_type": "code",
   "execution_count": 81,
   "metadata": {},
   "outputs": [
    {
     "name": "stdout",
     "output_type": "stream",
     "text": [
      "0.36729\n"
     ]
    }
   ],
   "source": [
    "total=100000\n",
    "count=0\n",
    "for i in range(total):\n",
    "    cards=[i for i in range(1,14)]\n",
    "    draw = np.random.choice(cards,size=13,replace=False)\n",
    "\n",
    "    if (draw==cards).any():\n",
    "        count+=1\n",
    "print(1-count/total)"
   ]
  },
  {
   "cell_type": "markdown",
   "metadata": {},
   "source": [
    "### The birthday problem\n",
    "In a room of 30 people whats the prob that atleast 2 have the same bday"
   ]
  },
  {
   "cell_type": "code",
   "execution_count": 91,
   "metadata": {},
   "outputs": [
    {
     "name": "stdout",
     "output_type": "stream",
     "text": [
      "prob of atleast 2 people having same birthday =  0.506883\n"
     ]
    }
   ],
   "source": [
    "days=[i for i in range(365)]\n",
    "non_unique=0\n",
    "total=1000000\n",
    "for i in range(total):\n",
    "    birthdays = list(np.random.choice(days,23))\n",
    "    if len(set(birthdays))!=len(birthdays):\n",
    "        non_unique+=1\n",
    "\n",
    "print(\"prob of atleast 2 people having same birthday = \",non_unique/total)\n"
   ]
  },
  {
   "cell_type": "markdown",
   "metadata": {},
   "source": []
  }
 ],
 "metadata": {
  "kernelspec": {
   "display_name": "Python 3",
   "language": "python",
   "name": "python3"
  },
  "language_info": {
   "codemirror_mode": {
    "name": "ipython",
    "version": 3
   },
   "file_extension": ".py",
   "mimetype": "text/x-python",
   "name": "python",
   "nbconvert_exporter": "python",
   "pygments_lexer": "ipython3",
   "version": "3.7.6"
  }
 },
 "nbformat": 4,
 "nbformat_minor": 4
}
