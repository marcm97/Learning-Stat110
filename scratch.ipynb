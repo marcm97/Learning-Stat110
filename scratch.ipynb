{
 "cells": [
  {
   "cell_type": "code",
   "execution_count": 10,
   "metadata": {},
   "outputs": [],
   "source": [
    "import numpy as np\n",
    "from itertools import permutations,combinations,product"
   ]
  },
  {
   "cell_type": "markdown",
   "metadata": {},
   "source": [
    "## Possibilities for a 4 digit phone passcode"
   ]
  },
  {
   "cell_type": "markdown",
   "metadata": {},
   "source": [
    "### Order matters with replacement\n",
    "\"_ _ _ _\"\n",
    "each spot has 10 possibilities - 10^4"
   ]
  },
  {
   "cell_type": "code",
   "execution_count": 12,
   "metadata": {},
   "outputs": [
    {
     "data": {
      "text/plain": [
       "10000"
      ]
     },
     "execution_count": 12,
     "metadata": {},
     "output_type": "execute_result"
    }
   ],
   "source": [
    "possibilities = [j for j in product([i for i in range(10)],repeat=4)]\n",
    "len(possibilities)"
   ]
  },
  {
   "cell_type": "markdown",
   "metadata": {},
   "source": [
    "### Order matters without replacement\n",
    "basically unique passcode with no repetition in digit = ${n \\choose 4}$"
   ]
  },
  {
   "cell_type": "code",
   "execution_count": 19,
   "metadata": {},
   "outputs": [
    {
     "data": {
      "text/plain": [
       "5040"
      ]
     },
     "execution_count": 19,
     "metadata": {},
     "output_type": "execute_result"
    }
   ],
   "source": [
    "possibilities = [j for j in permutations([i for i in range(10)],4)]\n",
    "len(possibilities)"
   ]
  },
  {
   "cell_type": "markdown",
   "metadata": {},
   "source": [
    "### Order doesn't  matter without replacement\n",
    "\"_ _ _ _\"\n",
    "Basically another way to say the passcode has to be ascending/descending, 1111 is invald\n",
    "\n",
    "i.e. ascending and unique\n",
    "\n",
    "i.e. of all the permutations of 4 given numbers - we only count 1\n",
    "\n",
    "i.e. number of ways to choose 4 numbers"
   ]
  },
  {
   "cell_type": "code",
   "execution_count": 21,
   "metadata": {},
   "outputs": [
    {
     "data": {
      "text/plain": [
       "210"
      ]
     },
     "execution_count": 21,
     "metadata": {},
     "output_type": "execute_result"
    }
   ],
   "source": [
    "possibilities = [j for j in combinations([i for i in range(10)],4)]\n",
    "len(possibilities)"
   ]
  },
  {
   "cell_type": "markdown",
   "metadata": {},
   "source": [
    "### Order doesn't matter with replacement\n",
    "we need to choose 4 numbers with replacement from 10 digitsand then subset only the ones that are ascending (1111 is valid)\n",
    "number of ways to sample 4 digits from 10 options\n",
    "\n",
    "i.e.we have 10 boxes and we need to put 4 balls in\n",
    "${\\dfrac{13!}{(9!*4!)}}$"
   ]
  },
  {
   "cell_type": "code",
   "execution_count": 45,
   "metadata": {},
   "outputs": [
    {
     "data": {
      "text/plain": [
       "715"
      ]
     },
     "execution_count": 45,
     "metadata": {},
     "output_type": "execute_result"
    }
   ],
   "source": [
    "possibilities = [str(a)+str(b)+str(c)+str(d) for a,b,c,d in product([i for i in range(10)],repeat=4)]\n",
    "len(set([\"\".join(sorted(i)) for i in possibilities]))"
   ]
  },
  {
   "cell_type": "markdown",
   "metadata": {},
   "source": [
    "### Expected number of spades in a draw of 4 cards"
   ]
  },
  {
   "cell_type": "code",
   "execution_count": 58,
   "metadata": {},
   "outputs": [
    {
     "name": "stdout",
     "output_type": "stream",
     "text": [
      "0.99986\n"
     ]
    }
   ],
   "source": [
    "deck = [1 for i in range(13)] + [0 for i in range(13,52)]\n",
    "\n",
    "#sample 4 cards without replacement\n",
    "count=0\n",
    "total =100000\n",
    "for i in range(total):\n",
    "    sample = np.random.choice(deck,size=4,replace=False)\n",
    "    count+=sample.sum()\n",
    "\n",
    "print(count/total)"
   ]
  },
  {
   "cell_type": "code",
   "execution_count": null,
   "metadata": {},
   "outputs": [],
   "source": []
  }
 ],
 "metadata": {
  "kernelspec": {
   "display_name": "Python 3",
   "language": "python",
   "name": "python3"
  },
  "language_info": {
   "codemirror_mode": {
    "name": "ipython",
    "version": 3
   },
   "file_extension": ".py",
   "mimetype": "text/x-python",
   "name": "python",
   "nbconvert_exporter": "python",
   "pygments_lexer": "ipython3",
   "version": "3.7.6"
  }
 },
 "nbformat": 4,
 "nbformat_minor": 4
}
